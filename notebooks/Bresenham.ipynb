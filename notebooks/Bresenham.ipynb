{
 "cells": [
  {
   "cell_type": "markdown",
   "metadata": {},
   "source": [
    "## Bresenham "
   ]
  },
  {
   "cell_type": "code",
   "execution_count": 12,
   "metadata": {},
   "outputs": [],
   "source": [
    "import numpy as np\n",
    "import matplotlib.pyplot as plt\n",
    "%matplotlib inline\n",
    "plt.rcParams['figure.figsize'] = 12, 12"
   ]
  },
  {
   "cell_type": "markdown",
   "metadata": {},
   "source": [
    "Your task is to implement the bresenham function given two points $p_1$ and $p_2$ as inputs. The function should return the list of grid cells required to draw the line.\n",
    "\n",
    "What conditions would warrant a move by 1 unit along the x-axis? What about along the y-axis?\n",
    "\n",
    "The idea is to move based on whether the next $y$ value will be above or below the line from $p_1$ to $p_2$. We can keep track of the current line value, effectively $f(x)$ where $f$ is the line equation by incrementing a counter variable by the slope $m$ whenever we move in the x-axis.\n",
    "\n",
    "The condition is then (in pseudocode):\n",
    "\n",
    "```\n",
    "if f(x+1) > y + 1:\n",
    "    y += 1\n",
    "else:\n",
    "    x += 1\n",
    "```\n",
    "\n",
    "So, if moving along the y-axis results in a y value that is below the line, then move along the y-axis, otherwise,  move in the x-axis.\n",
    "\n",
    "But what about the case where `f(x+1) == y+1`? This will be the result of every test case when the line slope `m = 1`. In this case you have a choice to make:\n",
    "* Only identify cells that as \"in collision\" when the line actually passes through those cells (less conservative obstacle avoidance)\n",
    "* When the line passes directly through a corner of grid cells, identify all cells that share that corner as \"in collision\" (more conservative obstacle avoidance). \n",
    "\n",
    "These two options look like this for a line from (0, 0) to (5, 5):\n",
    "\n",
    "![comparison](./bresenham_comparison.png)\n",
    "\n",
    "Try coding up both! In the event that you've padded obstacles  in your grid map with a sufficient safety margin, you can likely get away with the less conservative approach (or computer graphics based Bresenham implementation in the Python package shown below).\n"
   ]
  },
  {
   "cell_type": "code",
   "execution_count": 35,
   "metadata": {},
   "outputs": [],
   "source": [
    "def bres(p1, p2): \n",
    "    \"\"\"\n",
    "    Note this solution requires `x1` < `x2` and `y1` < `y2`.\n",
    "    \"\"\"\n",
    "    x1, y1 = p1\n",
    "    x2, y2 = p2\n",
    "    cells = []\n",
    "    \n",
    "    # Deltas\n",
    "    dy = y2 - y1\n",
    "    dx = x2 - x1\n",
    "    \n",
    "    # Derive solution\n",
    "    # The lines start at (0, 0) so f(x) = mx + b = mx.\n",
    "    # The lines can always be translated to (0, 0).\n",
    "    # Slope is m = dy/dx.\n",
    "    # Advancing either horizontal (x or i) or vertical (y or j)\n",
    "    # if m * (x + 1) <> y + 1.\n",
    "    # Specifically if m * (x + 1) < y + 1, advance horizontal.\n",
    "    # Advancing both only if m * (x + 1) == y + 1.\n",
    "    \n",
    "    # Derive integer solution\n",
    "    # dy/dx * (x + 1) < y + 1\n",
    "    # dy * (x + 1) < dx * (y + 1)\n",
    "    # x * dy - y * dx < dx - dy\n",
    "    \n",
    "    # dx - dy = const.\n",
    "    rise_diff = dx - dy\n",
    "    \n",
    "    # x * dy - y * dx varies with x and y\n",
    "    # Call it d, so final condition is d < rise_diff (here is the clue!)\n",
    "    \n",
    "    i, j = x1, y1\n",
    "    d = i * dy - j * dx \n",
    "    while i <= x2 and j <= y2:  # strict inequalities will exclude last cell\n",
    "        cells.append([i, j])\n",
    "        if d < rise_diff:\n",
    "            i += 1\n",
    "            d += dy\n",
    "        elif d > rise_diff:\n",
    "            j += 1\n",
    "            d -= dx\n",
    "        else:\n",
    "            i += 1\n",
    "            d += dy\n",
    "            j += 1\n",
    "            d -= dx\n",
    "        \n",
    "    return np.array(cells)"
   ]
  },
  {
   "cell_type": "markdown",
   "metadata": {},
   "source": [
    "Plotting the line with the cells which it crosses. "
   ]
  },
  {
   "cell_type": "code",
   "execution_count": 36,
   "metadata": {
    "scrolled": true
   },
   "outputs": [
    {
     "data": {
      "image/png": "[encoded data removed]",
      "text/plain": [
       "<matplotlib.figure.Figure at 0x7f863f45f0b8>"
      ]
     },
     "metadata": {
      "needs_background": "light"
     },
     "output_type": "display_data"
    }
   ],
   "source": [
    "p1 = (0, 0)\n",
    "p2 = (7, 5)\n",
    "\n",
    "cells = bres(p1, p2)\n",
    "# print(cells)\n",
    "\n",
    "plt.plot([p1[0], p2[0]], [p1[1], p2[1]])\n",
    "\n",
    "\n",
    "for q in cells:\n",
    "    plt.plot([q[0], q[0]+1], [q[1], q[1]], 'k')\n",
    "    plt.plot([q[0], q[0]+1], [q[1]+1, q[1]+1], 'k')\n",
    "    plt.plot([q[0], q[0]], [q[1],q[1]+1], 'k')\n",
    "    plt.plot([q[0]+1, q[0]+1], [q[1], q[1]+1], 'k')\n",
    "\n",
    "plt.grid()\n",
    "plt.axis('equal')\n",
    "plt.xlabel(\"X\")\n",
    "plt.ylabel(\"Y\")\n",
    "plt.title(\"Integer based Bresenham algorithm\")\n",
    "plt.show()"
   ]
  },
  {
   "cell_type": "markdown",
   "metadata": {},
   "source": [
    "Check out our solution [here](/notebooks/Bresenham-Solution.ipynb)."
   ]
  },
  {
   "cell_type": "markdown",
   "metadata": {},
   "source": [
    "### Python Bresenham Package\n",
    "For comparison let's have a look at the Python Bresenham package! As mentioned above, if you've added a safety margin around obstacles you are probably fine using this package or one like it that misses some cells in collision with the line.\n",
    "\n",
    "First we need to import it:"
   ]
  },
  {
   "cell_type": "code",
   "execution_count": 31,
   "metadata": {},
   "outputs": [],
   "source": [
    "from bresenham import bresenham"
   ]
  },
  {
   "cell_type": "markdown",
   "metadata": {},
   "source": [
    "Next we can run the same experiment as above and plot it up."
   ]
  },
  {
   "cell_type": "code",
   "execution_count": 32,
   "metadata": {},
   "outputs": [
    {
     "name": "stdout",
     "output_type": "stream",
     "text": [
      "[(0, 0), (1, 1), (2, 1), (3, 2), (4, 3), (5, 4), (6, 4), (7, 5)]\n"
     ]
    },
    {
     "data": {
      "image/png": "[encoded data removed]",
      "text/plain": [
       "<matplotlib.figure.Figure at 0x7f863eec0be0>"
      ]
     },
     "metadata": {
      "needs_background": "light"
     },
     "output_type": "display_data"
    }
   ],
   "source": [
    "# Note: you can run this for any (x1, y1, x2, y2)\n",
    "line = (0, 0, 7, 5)\n",
    "\n",
    "cells = list(bresenham(line[0], line[1], line[2], line[3]))\n",
    "print(cells)\n",
    "\n",
    "plt.plot([line[0], line[2]], [line[1], line[3]])\n",
    "\n",
    "\n",
    "for q in cells:\n",
    "    plt.plot([q[0], q[0]+1], [q[1], q[1]], 'k')\n",
    "    plt.plot([q[0], q[0]+1], [q[1]+1, q[1]+1], 'k')\n",
    "    plt.plot([q[0], q[0]], [q[1],q[1]+1], 'k')\n",
    "    plt.plot([q[0]+1, q[0]+1], [q[1], q[1]+1], 'k')\n",
    "\n",
    "plt.grid()\n",
    "plt.axis('equal')\n",
    "plt.xlabel(\"X\")\n",
    "plt.ylabel(\"Y\")\n",
    "plt.title(\"Python package Bresenham algorithm\")\n",
    "plt.show()"
   ]
  },
  {
   "cell_type": "code",
   "execution_count": null,
   "metadata": {},
   "outputs": [],
   "source": []
  }
 ],
 "metadata": {
  "kernelspec": {
   "display_name": "Python 3",
   "language": "python",
   "name": "python3"
  },
  "language_info": {
   "codemirror_mode": {
    "name": "ipython",
    "version": 3
   },
   "file_extension": ".py",
   "mimetype": "text/x-python",
   "name": "python",
   "nbconvert_exporter": "python",
   "pygments_lexer": "ipython3",
   "version": "3.6.3"
  }
 },
 "nbformat": 4,
 "nbformat_minor": 2
}
