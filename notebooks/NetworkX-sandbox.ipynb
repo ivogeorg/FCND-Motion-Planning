{
 "cells": [
  {
   "cell_type": "markdown",
   "id": "5228091a",
   "metadata": {},
   "source": [
    "# NetworkX sandbox\n",
    "\n",
    "### Simple use"
   ]
  },
  {
   "cell_type": "code",
   "execution_count": 28,
   "id": "8bf8b5ff",
   "metadata": {},
   "outputs": [],
   "source": [
    "import numpy as np\n",
    "import matplotlib.pyplot as plt\n",
    "import networkx as nx"
   ]
  },
  {
   "cell_type": "code",
   "execution_count": 29,
   "id": "bb26e0ff",
   "metadata": {},
   "outputs": [],
   "source": [
    "G = nx.Graph()"
   ]
  },
  {
   "cell_type": "code",
   "execution_count": 30,
   "id": "f0cf5f9d",
   "metadata": {},
   "outputs": [],
   "source": [
    "edges = [(1, 3),(2, 6),(6, 1),(2, 3),(1,8)]\n",
    "G.add_edges_from(edges)"
   ]
  },
  {
   "cell_type": "code",
   "execution_count": 31,
   "id": "41ff724c",
   "metadata": {},
   "outputs": [
    {
     "data": {
      "text/plain": [
       "EdgeView([(1, 3), (1, 6), (1, 8), (3, 2), (2, 6)])"
      ]
     },
     "execution_count": 31,
     "metadata": {},
     "output_type": "execute_result"
    }
   ],
   "source": [
    "G.edges"
   ]
  },
  {
   "cell_type": "code",
   "execution_count": 32,
   "id": "3914affe",
   "metadata": {},
   "outputs": [
    {
     "data": {
      "text/plain": [
       "AdjacencyView({1: {3: {}, 6: {}, 8: {}}, 3: {1: {}, 2: {}}, 2: {6: {}, 3: {}}, 6: {2: {}, 1: {}}, 8: {1: {}}})"
      ]
     },
     "execution_count": 32,
     "metadata": {},
     "output_type": "execute_result"
    }
   ],
   "source": [
    "G.adj"
   ]
  },
  {
   "cell_type": "code",
   "execution_count": 33,
   "id": "269d2e2f",
   "metadata": {},
   "outputs": [
    {
     "data": {
      "image/png": "[encoded data removed]",
      "text/plain": [
       "<matplotlib.figure.Figure at 0x7fbe9929b080>"
      ]
     },
     "metadata": {},
     "output_type": "display_data"
    }
   ],
   "source": [
    "nx.draw(G)"
   ]
  },
  {
   "cell_type": "code",
   "execution_count": 34,
   "id": "337a4285",
   "metadata": {},
   "outputs": [
    {
     "data": {
      "text/plain": [
       "NodeView((1, 3, 2, 6, 8))"
      ]
     },
     "execution_count": 34,
     "metadata": {},
     "output_type": "execute_result"
    }
   ],
   "source": [
    "G.nodes"
   ]
  },
  {
   "cell_type": "markdown",
   "id": "84b383dd",
   "metadata": {},
   "source": [
    "Nodes, edges, neighbors/adjacencies, and degrees are the major views of the graph. They can be converted to containers of choice, here lists."
   ]
  },
  {
   "cell_type": "code",
   "execution_count": 35,
   "id": "8fbc57c5",
   "metadata": {},
   "outputs": [
    {
     "data": {
      "text/plain": [
       "[1, 3, 2, 6, 8]"
      ]
     },
     "execution_count": 35,
     "metadata": {},
     "output_type": "execute_result"
    }
   ],
   "source": [
    "list(G.nodes)"
   ]
  },
  {
   "cell_type": "code",
   "execution_count": 36,
   "id": "7c422fc4",
   "metadata": {},
   "outputs": [
    {
     "data": {
      "text/plain": [
       "[(1, 3), (1, 6), (1, 8), (3, 2), (2, 6)]"
      ]
     },
     "execution_count": 36,
     "metadata": {},
     "output_type": "execute_result"
    }
   ],
   "source": [
    "list(G.edges)"
   ]
  },
  {
   "cell_type": "code",
   "execution_count": 37,
   "id": "cb6570e5",
   "metadata": {},
   "outputs": [
    {
     "data": {
      "text/plain": [
       "[3, 6, 8]"
      ]
     },
     "execution_count": 37,
     "metadata": {},
     "output_type": "execute_result"
    }
   ],
   "source": [
    "list(G.adj[1])  # or list(G.neighbors(1))"
   ]
  },
  {
   "cell_type": "code",
   "execution_count": 38,
   "id": "8afdfa60",
   "metadata": {},
   "outputs": [
    {
     "data": {
      "text/plain": [
       "3"
      ]
     },
     "execution_count": 38,
     "metadata": {},
     "output_type": "execute_result"
    }
   ],
   "source": [
    "G.degree[1]  # the number of edges incident to 1"
   ]
  },
  {
   "cell_type": "markdown",
   "id": "08d1d7dd",
   "metadata": {},
   "source": [
    "### 2D edges\n",
    "Now let's try with 2D nodes of floating-point values."
   ]
  },
  {
   "cell_type": "code",
   "execution_count": 39,
   "id": "3ddab47b",
   "metadata": {},
   "outputs": [],
   "source": [
    "H = nx.Graph()"
   ]
  },
  {
   "cell_type": "code",
   "execution_count": 40,
   "id": "7bbac1ed",
   "metadata": {},
   "outputs": [],
   "source": [
    "# Try to generate a 3D array (10, 2, 2) with random values. These are 10 2D edges.\n",
    "edges_2d = np.random.randn(10, 2, 2)"
   ]
  },
  {
   "cell_type": "code",
   "execution_count": 41,
   "id": "2f9678b0",
   "metadata": {},
   "outputs": [
    {
     "data": {
      "text/plain": [
       "array([[[ 0.58863195,  0.01740024],\n",
       "        [-0.1611733 ,  1.03201699]],\n",
       "\n",
       "       [[ 0.03422947, -0.84647721],\n",
       "        [-0.5455303 , -1.22682664]],\n",
       "\n",
       "       [[-1.57574683,  0.57567455],\n",
       "        [ 0.12638122, -0.16497539]],\n",
       "\n",
       "       [[-1.50647521,  0.3414014 ],\n",
       "        [-1.26041147,  1.03061325]],\n",
       "\n",
       "       [[ 1.35021478, -2.75606224],\n",
       "        [ 0.30626375, -0.37311409]],\n",
       "\n",
       "       [[ 0.02214424,  0.14459669],\n",
       "        [ 0.1111175 ,  1.23563853]],\n",
       "\n",
       "       [[ 1.0099414 , -0.56621464],\n",
       "        [-0.71864888, -0.22546283]],\n",
       "\n",
       "       [[-0.13626173,  0.32312943],\n",
       "        [ 0.71073493,  0.18796126]],\n",
       "\n",
       "       [[-2.15764367,  0.87625088],\n",
       "        [ 0.26179897, -0.78476995]],\n",
       "\n",
       "       [[-0.76064079,  0.76723091],\n",
       "        [ 1.12022227, -0.24734192]]])"
      ]
     },
     "execution_count": 41,
     "metadata": {},
     "output_type": "execute_result"
    }
   ],
   "source": [
    "edges_2d"
   ]
  },
  {
   "cell_type": "code",
   "execution_count": 42,
   "id": "ab0de277",
   "metadata": {},
   "outputs": [
    {
     "ename": "TypeError",
     "evalue": "unhashable type: 'numpy.ndarray'",
     "output_type": "error",
     "traceback": [
      "\u001b[0;31m---------------------------------------------------------------------------\u001b[0m",
      "\u001b[0;31mTypeError\u001b[0m                                 Traceback (most recent call last)",
      "\u001b[0;32m<ipython-input-42-a471d16b7fcd>\u001b[0m in \u001b[0;36m<module>\u001b[0;34m\u001b[0m\n\u001b[0;32m----> 1\u001b[0;31m \u001b[0mH\u001b[0m\u001b[0;34m.\u001b[0m\u001b[0madd_edges_from\u001b[0m\u001b[0;34m(\u001b[0m\u001b[0medges_2d\u001b[0m\u001b[0;34m)\u001b[0m\u001b[0;34m\u001b[0m\u001b[0m\n\u001b[0m",
      "\u001b[0;32m~/anaconda3/envs/fcnd/lib/python3.6/site-packages/networkx/classes/graph.py\u001b[0m in \u001b[0;36madd_edges_from\u001b[0;34m(self, ebunch_to_add, **attr)\u001b[0m\n\u001b[1;32m    933\u001b[0m                 raise NetworkXError(\n\u001b[1;32m    934\u001b[0m                     \"Edge tuple %s must be a 2-tuple or 3-tuple.\" % (e,))\n\u001b[0;32m--> 935\u001b[0;31m             \u001b[0;32mif\u001b[0m \u001b[0mu\u001b[0m \u001b[0;32mnot\u001b[0m \u001b[0;32min\u001b[0m \u001b[0mself\u001b[0m\u001b[0;34m.\u001b[0m\u001b[0m_node\u001b[0m\u001b[0;34m:\u001b[0m\u001b[0;34m\u001b[0m\u001b[0m\n\u001b[0m\u001b[1;32m    936\u001b[0m                 \u001b[0mself\u001b[0m\u001b[0;34m.\u001b[0m\u001b[0m_adj\u001b[0m\u001b[0;34m[\u001b[0m\u001b[0mu\u001b[0m\u001b[0;34m]\u001b[0m \u001b[0;34m=\u001b[0m \u001b[0mself\u001b[0m\u001b[0;34m.\u001b[0m\u001b[0madjlist_inner_dict_factory\u001b[0m\u001b[0;34m(\u001b[0m\u001b[0;34m)\u001b[0m\u001b[0;34m\u001b[0m\u001b[0m\n\u001b[1;32m    937\u001b[0m                 \u001b[0mself\u001b[0m\u001b[0;34m.\u001b[0m\u001b[0m_node\u001b[0m\u001b[0;34m[\u001b[0m\u001b[0mu\u001b[0m\u001b[0;34m]\u001b[0m \u001b[0;34m=\u001b[0m \u001b[0;34m{\u001b[0m\u001b[0;34m}\u001b[0m\u001b[0;34m\u001b[0m\u001b[0m\n",
      "\u001b[0;31mTypeError\u001b[0m: unhashable type: 'numpy.ndarray'"
     ]
    }
   ],
   "source": [
    "H.add_edges_from(edges_2d)  # edges_2d is ambiguous"
   ]
  },
  {
   "cell_type": "code",
   "execution_count": 43,
   "id": "e775462c",
   "metadata": {},
   "outputs": [],
   "source": [
    "# So, we'll just hard-code them. Don't need that many.\n",
    "edges_2d = [((860.76110000000006, 860.76850000000002),\n",
    "  (880.76110000000006, 900.76850000000002)),\n",
    " ((905.17286470588238, 797.82732352941184),\n",
    "  (875.76110000000006, 775.76850000000002)),\n",
    " ((905.17286470588238, 797.82732352941184),\n",
    "  (900.76110000000006, 800.76850000000002)),\n",
    " ((875.76110000000006, 775.76850000000002),\n",
    "  (845.09188154025071, 745.09928154025067))]"
   ]
  },
  {
   "cell_type": "code",
   "execution_count": 44,
   "id": "b6fb81f6",
   "metadata": {},
   "outputs": [],
   "source": [
    "H.add_edges_from(edges_2d)"
   ]
  },
  {
   "cell_type": "code",
   "execution_count": 45,
   "id": "ba74db59",
   "metadata": {},
   "outputs": [
    {
     "data": {
      "text/plain": [
       "EdgeView([((860.7611, 860.7685), (880.7611, 900.7685)), ((905.1728647058824, 797.8273235294118), (875.7611, 775.7685)), ((905.1728647058824, 797.8273235294118), (900.7611, 800.7685)), ((875.7611, 775.7685), (845.0918815402507, 745.0992815402507))])"
      ]
     },
     "execution_count": 45,
     "metadata": {},
     "output_type": "execute_result"
    }
   ],
   "source": [
    "H.edges"
   ]
  },
  {
   "cell_type": "code",
   "execution_count": 46,
   "id": "1532d54d",
   "metadata": {},
   "outputs": [
    {
     "data": {
      "text/plain": [
       "NodeView(((860.7611, 860.7685), (880.7611, 900.7685), (905.1728647058824, 797.8273235294118), (875.7611, 775.7685), (900.7611, 800.7685), (845.0918815402507, 745.0992815402507)))"
      ]
     },
     "execution_count": 46,
     "metadata": {},
     "output_type": "execute_result"
    }
   ],
   "source": [
    "# Now nodes will be 2D points\n",
    "H.nodes"
   ]
  },
  {
   "cell_type": "code",
   "execution_count": 49,
   "id": "a6a61835",
   "metadata": {},
   "outputs": [
    {
     "data": {
      "text/plain": [
       "[(880.7611, 900.7685)]"
      ]
     },
     "execution_count": 49,
     "metadata": {},
     "output_type": "execute_result"
    }
   ],
   "source": [
    "# Finding the adjacent nodes of a node (this is for the move actions available from a node)\n",
    "node1 = (860.7611, 860.7685)\n",
    "list(H.adj[node1])"
   ]
  },
  {
   "cell_type": "code",
   "execution_count": 50,
   "id": "12a67ca8",
   "metadata": {},
   "outputs": [
    {
     "data": {
      "image/png": "[encoded data removed]",
      "text/plain": [
       "<matplotlib.figure.Figure at 0x7fbe9998fd30>"
      ]
     },
     "metadata": {},
     "output_type": "display_data"
    }
   ],
   "source": [
    "nx.draw(H)"
   ]
  },
  {
   "cell_type": "markdown",
   "id": "f116794f",
   "metadata": {},
   "source": [
    "### Weighted edges\n",
    "Let's add weights and see how to manipulate them. Using the L2 norm."
   ]
  },
  {
   "cell_type": "code",
   "execution_count": 51,
   "id": "36e99d65",
   "metadata": {},
   "outputs": [
    {
     "data": {
      "text/plain": [
       "27.33335873982559"
      ]
     },
     "execution_count": 51,
     "metadata": {},
     "output_type": "execute_result"
    }
   ],
   "source": [
    "np.linalg.norm(np.array((23.13, 10.15)) - np.array((5.67, 31.18)))"
   ]
  },
  {
   "cell_type": "code",
   "execution_count": 52,
   "id": "08a08dce",
   "metadata": {},
   "outputs": [],
   "source": [
    "GR = nx.Graph()"
   ]
  },
  {
   "cell_type": "code",
   "execution_count": 53,
   "id": "245d8b8f",
   "metadata": {},
   "outputs": [],
   "source": [
    "for e in edges_2d:\n",
    "    wt = np.linalg.norm(np.array(e[1]) - np.array(e[0]))\n",
    "    GR.add_edge(*e, weight=wt)"
   ]
  },
  {
   "cell_type": "code",
   "execution_count": 54,
   "id": "7fcbbf7e",
   "metadata": {},
   "outputs": [
    {
     "data": {
      "text/plain": [
       "EdgeView([((860.7611, 860.7685), (880.7611, 900.7685)), ((905.1728647058824, 797.8273235294118), (875.7611, 775.7685)), ((905.1728647058824, 797.8273235294118), (900.7611, 800.7685)), ((875.7611, 775.7685), (845.0918815402507, 745.0992815402507))])"
      ]
     },
     "execution_count": 54,
     "metadata": {},
     "output_type": "execute_result"
    }
   ],
   "source": [
    "GR.edges"
   ]
  },
  {
   "cell_type": "code",
   "execution_count": 56,
   "id": "583d8253",
   "metadata": {},
   "outputs": [
    {
     "name": "stdout",
     "output_type": "stream",
     "text": [
      "((860.7611, 860.7685), (880.7611, 900.7685), 44.7)\n",
      "((905.1728647058824, 797.8273235294118), (875.7611, 775.7685), 36.8)\n",
      "((905.1728647058824, 797.8273235294118), (900.7611, 800.7685), 5.3)\n",
      "((875.7611, 775.7685), (845.0918815402507, 745.0992815402507), 43.4)\n"
     ]
    }
   ],
   "source": [
    "for (u, v, wt) in GR.edges.data('weight'):\n",
    "    print(f\"({u}, {v}, {wt:.3})\")"
   ]
  },
  {
   "cell_type": "code",
   "execution_count": 60,
   "id": "ce8ec5d6",
   "metadata": {},
   "outputs": [
    {
     "data": {
      "text/plain": [
       "44.721359549995796"
      ]
     },
     "execution_count": 60,
     "metadata": {},
     "output_type": "execute_result"
    }
   ],
   "source": [
    "# How to get the edge weights for all the neighbors?\n",
    "edge1 = ((860.7611, 860.7685), (880.7611, 900.7685))\n",
    "GR.edges[edge1][\"weight\"]"
   ]
  },
  {
   "cell_type": "code",
   "execution_count": 62,
   "id": "4b26802a",
   "metadata": {},
   "outputs": [
    {
     "data": {
      "text/plain": [
       "True"
      ]
     },
     "execution_count": 62,
     "metadata": {},
     "output_type": "execute_result"
    }
   ],
   "source": [
    "node2 = (905.1728647058824, 797.8273235294118)\n",
    "GR.has_edge(*edge1)"
   ]
  },
  {
   "cell_type": "code",
   "execution_count": 63,
   "id": "cfab023b",
   "metadata": {},
   "outputs": [
    {
     "data": {
      "text/plain": [
       "AtlasView({(875.7611, 775.7685): {'weight': 36.76470588235295}, (900.7611, 800.7685): {'weight': 5.3022812874469825}})"
      ]
     },
     "execution_count": 63,
     "metadata": {},
     "output_type": "execute_result"
    }
   ],
   "source": [
    "GR.adj[node2]"
   ]
  },
  {
   "cell_type": "code",
   "execution_count": 64,
   "id": "a4dc0f45",
   "metadata": {},
   "outputs": [
    {
     "name": "stdout",
     "output_type": "stream",
     "text": [
      "Next node is (875.7611, 775.7685) with edge weight 36.76470588235295\n",
      "Next node is (900.7611, 800.7685) with edge weight 5.3022812874469825\n"
     ]
    }
   ],
   "source": [
    "for nd, wt_dict in GR.adj[node2].items():\n",
    "    print(\"Next node is\", nd, \"with edge weight\", wt_dict[\"weight\"])"
   ]
  },
  {
   "cell_type": "markdown",
   "id": "aa4ee23a",
   "metadata": {},
   "source": [
    "### Point-of-interest off the graph\n",
    "1. How to find the closest graph element (node or edge) to a point off the graph?\n",
    "2. How to connect the off-graph point as a new node in the graph? There are two different cases: connect to a node with a new edge; split an edge into two and connect to the splitting node with a new edge.  \n",
    "\n",
    "The edges are \n",
    "```\n",
    "((860.7611, 860.7685), (880.7611, 900.7685), 44.7)\n",
    "((905.1728647058824, 797.8273235294118), (875.7611, 775.7685), 36.8)\n",
    "((905.1728647058824, 797.8273235294118), (900.7611, 800.7685), 5.3)\n",
    "((875.7611, 775.7685), (845.0918815402507, 745.0992815402507), 43.4)\n",
    "```\n",
    "and the graph looks like  \n",
    "<img src=\"nx-graph-sandbox-graph-h.png\" width=\"400\"/>  \n",
    "\n",
    "Note that this is not graphed to scale in a Cartesian coordinate system. It simply shows connectivity. The graphing is non-deterministic."
   ]
  },
  {
   "cell_type": "code",
   "execution_count": 69,
   "id": "a5050aad",
   "metadata": {},
   "outputs": [
    {
     "data": {
      "text/plain": [
       "NodeView(((860.7611, 860.7685), (880.7611, 900.7685), (905.1728647058824, 797.8273235294118), (875.7611, 775.7685), (900.7611, 800.7685), (845.0918815402507, 745.0992815402507)))"
      ]
     },
     "execution_count": 69,
     "metadata": {},
     "output_type": "execute_result"
    }
   ],
   "source": [
    "# Add a point of interest as a new node\n",
    "GR.nodes"
   ]
  },
  {
   "cell_type": "code",
   "execution_count": 70,
   "id": "7e5e173d",
   "metadata": {},
   "outputs": [
    {
     "data": {
      "text/plain": [
       "array([[860.7611    , 860.7685    ],\n",
       "       [880.7611    , 900.7685    ],\n",
       "       [905.17286471, 797.82732353],\n",
       "       [875.7611    , 775.7685    ],\n",
       "       [900.7611    , 800.7685    ],\n",
       "       [845.09188154, 745.09928154]])"
      ]
     },
     "execution_count": 70,
     "metadata": {},
     "output_type": "execute_result"
    }
   ],
   "source": [
    "np.array(GR.nodes)"
   ]
  },
  {
   "cell_type": "code",
   "execution_count": 75,
   "id": "ced0115d",
   "metadata": {},
   "outputs": [
    {
     "name": "stdout",
     "output_type": "stream",
     "text": [
      "[878.05152437 813.50010084]\n"
     ]
    }
   ],
   "source": [
    "new_node = np.average(np.array(GR.nodes), axis=0)\n",
    "print(new_node)"
   ]
  },
  {
   "cell_type": "code",
   "execution_count": 77,
   "id": "d89af48e",
   "metadata": {},
   "outputs": [],
   "source": [
    "GR.add_node(tuple(new_node))"
   ]
  },
  {
   "cell_type": "code",
   "execution_count": 78,
   "id": "33ababc0",
   "metadata": {},
   "outputs": [
    {
     "data": {
      "image/png": "[encoded data removed]",
      "text/plain": [
       "<matplotlib.figure.Figure at 0x7fbe99c20358>"
      ]
     },
     "metadata": {},
     "output_type": "display_data"
    }
   ],
   "source": [
    "nx.draw(GR)"
   ]
  },
  {
   "cell_type": "markdown",
   "id": "67c3c764",
   "metadata": {},
   "source": [
    "This [SO answer](https://stackoverflow.com/a/47198877/6562147) contains a quick computation of the point on a line closest to a point off the line. _TODO: Need to understand the second equation!_ The computation is encapsulated in a function:\n",
    "```python\n",
    "def p4(p1, p2, p3):\n",
    "    x1, y1 = p1  # line defined by p1 and p2\n",
    "    x2, y2 = p2\n",
    "    x3, y3 = p3  # point off the line\n",
    "    \n",
    "    dx, dy = x2 - x1, y2 - y1\n",
    "    det = dx * dx + dy * dy\n",
    "    a = (dy * (y3 - y1) + dx * (x3 - x1)) / det\n",
    "    \n",
    "    return x1 + a * dx, y1 + a * dy\n",
    "```\n",
    "\n",
    "Each edge defines a line in space (p1, p2). The off-the-edge point of interest is p3. The point on the line of the edge (p1, p2) closest to the point p3.\n",
    "\n",
    "However, here's a sketch of the extreme problem with this approach:\n",
    "<img src=\"closest-graph-edge-problem-worst.jpg\" width=\"600\"/>\n",
    "\n",
    "So, the solution has to forgo edges and rely on the density of nodes. This is by all means the easier solution."
   ]
  },
  {
   "cell_type": "markdown",
   "id": "8e3795df",
   "metadata": {},
   "source": [
    "### Shortcuts to neighbors and edges"
   ]
  },
  {
   "cell_type": "code",
   "execution_count": 79,
   "id": "1556dd30",
   "metadata": {},
   "outputs": [
    {
     "data": {
      "text/plain": [
       "AtlasView({(875.7611, 775.7685): {'weight': 36.76470588235295}, (900.7611, 800.7685): {'weight': 5.3022812874469825}})"
      ]
     },
     "execution_count": 79,
     "metadata": {},
     "output_type": "execute_result"
    }
   ],
   "source": [
    "# The following is a nice shortcut to G.adj[node2]\n",
    "GR[node2]"
   ]
  },
  {
   "cell_type": "code",
   "execution_count": 84,
   "id": "f01acc52",
   "metadata": {},
   "outputs": [
    {
     "name": "stdout",
     "output_type": "stream",
     "text": [
      "{'weight': 36.76470588235295}\n",
      "36.76470588235295\n",
      "{'weight': 5.3022812874469825}\n",
      "5.3022812874469825\n"
     ]
    }
   ],
   "source": [
    "# The following is a nice shortcut to edges\n",
    "for neib in GR[node2]:\n",
    "    print(GR.edges[node2, neib])  # order doesn't matter (what a cool package altogether)\n",
    "    print(GR.edges[node2, neib][\"weight\"])"
   ]
  },
  {
   "cell_type": "code",
   "execution_count": null,
   "id": "20178eb4",
   "metadata": {},
   "outputs": [],
   "source": []
  }
 ],
 "metadata": {
  "kernelspec": {
   "display_name": "Python 3",
   "language": "python",
   "name": "python3"
  },
  "language_info": {
   "codemirror_mode": {
    "name": "ipython",
    "version": 3
   },
   "file_extension": ".py",
   "mimetype": "text/x-python",
   "name": "python",
   "nbconvert_exporter": "python",
   "pygments_lexer": "ipython3",
   "version": "3.6.3"
  }
 },
 "nbformat": 4,
 "nbformat_minor": 5
}
