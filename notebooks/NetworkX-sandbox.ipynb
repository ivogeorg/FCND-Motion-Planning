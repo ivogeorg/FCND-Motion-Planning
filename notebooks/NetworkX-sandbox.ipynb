{
 "cells": [
  {
   "cell_type": "code",
   "execution_count": 28,
   "id": "4427fb40",
   "metadata": {},
   "outputs": [],
   "source": [
    "import numpy as np\n",
    "import matplotlib.pyplot as plt\n",
    "import networkx as nx"
   ]
  },
  {
   "cell_type": "code",
   "execution_count": 29,
   "id": "ad37fee6",
   "metadata": {},
   "outputs": [],
   "source": [
    "G = nx.Graph()"
   ]
  },
  {
   "cell_type": "code",
   "execution_count": 30,
   "id": "9fca4df9",
   "metadata": {},
   "outputs": [],
   "source": [
    "edges = [(1, 3),(2, 6),(6, 1),(2, 3),(1,8)]\n",
    "G.add_edges_from(edges)"
   ]
  },
  {
   "cell_type": "code",
   "execution_count": 31,
   "id": "e3a6690d",
   "metadata": {},
   "outputs": [
    {
     "data": {
      "text/plain": [
       "EdgeView([(1, 3), (1, 6), (1, 8), (3, 2), (2, 6)])"
      ]
     },
     "execution_count": 31,
     "metadata": {},
     "output_type": "execute_result"
    }
   ],
   "source": [
    "G.edges"
   ]
  },
  {
   "cell_type": "code",
   "execution_count": 32,
   "id": "fbc8bff5",
   "metadata": {},
   "outputs": [
    {
     "data": {
      "text/plain": [
       "AdjacencyView({1: {3: {}, 6: {}, 8: {}}, 3: {1: {}, 2: {}}, 2: {6: {}, 3: {}}, 6: {2: {}, 1: {}}, 8: {1: {}}})"
      ]
     },
     "execution_count": 32,
     "metadata": {},
     "output_type": "execute_result"
    }
   ],
   "source": [
    "G.adj"
   ]
  },
  {
   "cell_type": "code",
   "execution_count": 33,
   "id": "0e89ba27",
   "metadata": {},
   "outputs": [
    {
     "data": {
      "image/png": "[encoded data removed]",
      "text/plain": [
       "<matplotlib.figure.Figure at 0x7fbe9929b080>"
      ]
     },
     "metadata": {},
     "output_type": "display_data"
    }
   ],
   "source": [
    "nx.draw(G)"
   ]
  },
  {
   "cell_type": "code",
   "execution_count": 34,
   "id": "9a5d7c0b",
   "metadata": {},
   "outputs": [
    {
     "data": {
      "text/plain": [
       "NodeView((1, 3, 2, 6, 8))"
      ]
     },
     "execution_count": 34,
     "metadata": {},
     "output_type": "execute_result"
    }
   ],
   "source": [
    "G.nodes"
   ]
  },
  {
   "cell_type": "markdown",
   "id": "5f194b26",
   "metadata": {},
   "source": [
    "Nodes, edges, neighbors/adjacencies, and degrees are the major views of the graph. They can be converted to containers of choice, here lists."
   ]
  },
  {
   "cell_type": "code",
   "execution_count": 35,
   "id": "1bb89d94",
   "metadata": {},
   "outputs": [
    {
     "data": {
      "text/plain": [
       "[1, 3, 2, 6, 8]"
      ]
     },
     "execution_count": 35,
     "metadata": {},
     "output_type": "execute_result"
    }
   ],
   "source": [
    "list(G.nodes)"
   ]
  },
  {
   "cell_type": "code",
   "execution_count": 36,
   "id": "43e09b6e",
   "metadata": {},
   "outputs": [
    {
     "data": {
      "text/plain": [
       "[(1, 3), (1, 6), (1, 8), (3, 2), (2, 6)]"
      ]
     },
     "execution_count": 36,
     "metadata": {},
     "output_type": "execute_result"
    }
   ],
   "source": [
    "list(G.edges)"
   ]
  },
  {
   "cell_type": "code",
   "execution_count": 37,
   "id": "e5fc4c81",
   "metadata": {},
   "outputs": [
    {
     "data": {
      "text/plain": [
       "[3, 6, 8]"
      ]
     },
     "execution_count": 37,
     "metadata": {},
     "output_type": "execute_result"
    }
   ],
   "source": [
    "list(G.adj[1])  # or list(G.neighbors(1))"
   ]
  },
  {
   "cell_type": "code",
   "execution_count": 38,
   "id": "1fa2a8d8",
   "metadata": {},
   "outputs": [
    {
     "data": {
      "text/plain": [
       "3"
      ]
     },
     "execution_count": 38,
     "metadata": {},
     "output_type": "execute_result"
    }
   ],
   "source": [
    "G.degree[1]  # the number of edges incident to 1"
   ]
  },
  {
   "cell_type": "markdown",
   "id": "2b94372c",
   "metadata": {},
   "source": [
    "Now let's try with 2D nodes of floating-point values."
   ]
  },
  {
   "cell_type": "code",
   "execution_count": 39,
   "id": "b95035a6",
   "metadata": {},
   "outputs": [],
   "source": [
    "H = nx.Graph()"
   ]
  },
  {
   "cell_type": "code",
   "execution_count": 40,
   "id": "11d6efcf",
   "metadata": {},
   "outputs": [],
   "source": [
    "# Try to generate a 3D array (10, 2, 2) with random values. These are 10 2D edges.\n",
    "edges_2d = np.random.randn(10, 2, 2)"
   ]
  },
  {
   "cell_type": "code",
   "execution_count": 41,
   "id": "c3ade045",
   "metadata": {},
   "outputs": [
    {
     "data": {
      "text/plain": [
       "array([[[ 0.58863195,  0.01740024],\n",
       "        [-0.1611733 ,  1.03201699]],\n",
       "\n",
       "       [[ 0.03422947, -0.84647721],\n",
       "        [-0.5455303 , -1.22682664]],\n",
       "\n",
       "       [[-1.57574683,  0.57567455],\n",
       "        [ 0.12638122, -0.16497539]],\n",
       "\n",
       "       [[-1.50647521,  0.3414014 ],\n",
       "        [-1.26041147,  1.03061325]],\n",
       "\n",
       "       [[ 1.35021478, -2.75606224],\n",
       "        [ 0.30626375, -0.37311409]],\n",
       "\n",
       "       [[ 0.02214424,  0.14459669],\n",
       "        [ 0.1111175 ,  1.23563853]],\n",
       "\n",
       "       [[ 1.0099414 , -0.56621464],\n",
       "        [-0.71864888, -0.22546283]],\n",
       "\n",
       "       [[-0.13626173,  0.32312943],\n",
       "        [ 0.71073493,  0.18796126]],\n",
       "\n",
       "       [[-2.15764367,  0.87625088],\n",
       "        [ 0.26179897, -0.78476995]],\n",
       "\n",
       "       [[-0.76064079,  0.76723091],\n",
       "        [ 1.12022227, -0.24734192]]])"
      ]
     },
     "execution_count": 41,
     "metadata": {},
     "output_type": "execute_result"
    }
   ],
   "source": [
    "edges_2d"
   ]
  },
  {
   "cell_type": "code",
   "execution_count": 42,
   "id": "cb7ba86d",
   "metadata": {},
   "outputs": [
    {
     "ename": "TypeError",
     "evalue": "unhashable type: 'numpy.ndarray'",
     "output_type": "error",
     "traceback": [
      "\u001b[0;31m---------------------------------------------------------------------------\u001b[0m",
      "\u001b[0;31mTypeError\u001b[0m                                 Traceback (most recent call last)",
      "\u001b[0;32m<ipython-input-42-a471d16b7fcd>\u001b[0m in \u001b[0;36m<module>\u001b[0;34m\u001b[0m\n\u001b[0;32m----> 1\u001b[0;31m \u001b[0mH\u001b[0m\u001b[0;34m.\u001b[0m\u001b[0madd_edges_from\u001b[0m\u001b[0;34m(\u001b[0m\u001b[0medges_2d\u001b[0m\u001b[0;34m)\u001b[0m\u001b[0;34m\u001b[0m\u001b[0m\n\u001b[0m",
      "\u001b[0;32m~/anaconda3/envs/fcnd/lib/python3.6/site-packages/networkx/classes/graph.py\u001b[0m in \u001b[0;36madd_edges_from\u001b[0;34m(self, ebunch_to_add, **attr)\u001b[0m\n\u001b[1;32m    933\u001b[0m                 raise NetworkXError(\n\u001b[1;32m    934\u001b[0m                     \"Edge tuple %s must be a 2-tuple or 3-tuple.\" % (e,))\n\u001b[0;32m--> 935\u001b[0;31m             \u001b[0;32mif\u001b[0m \u001b[0mu\u001b[0m \u001b[0;32mnot\u001b[0m \u001b[0;32min\u001b[0m \u001b[0mself\u001b[0m\u001b[0;34m.\u001b[0m\u001b[0m_node\u001b[0m\u001b[0;34m:\u001b[0m\u001b[0;34m\u001b[0m\u001b[0m\n\u001b[0m\u001b[1;32m    936\u001b[0m                 \u001b[0mself\u001b[0m\u001b[0;34m.\u001b[0m\u001b[0m_adj\u001b[0m\u001b[0;34m[\u001b[0m\u001b[0mu\u001b[0m\u001b[0;34m]\u001b[0m \u001b[0;34m=\u001b[0m \u001b[0mself\u001b[0m\u001b[0;34m.\u001b[0m\u001b[0madjlist_inner_dict_factory\u001b[0m\u001b[0;34m(\u001b[0m\u001b[0;34m)\u001b[0m\u001b[0;34m\u001b[0m\u001b[0m\n\u001b[1;32m    937\u001b[0m                 \u001b[0mself\u001b[0m\u001b[0;34m.\u001b[0m\u001b[0m_node\u001b[0m\u001b[0;34m[\u001b[0m\u001b[0mu\u001b[0m\u001b[0;34m]\u001b[0m \u001b[0;34m=\u001b[0m \u001b[0;34m{\u001b[0m\u001b[0;34m}\u001b[0m\u001b[0;34m\u001b[0m\u001b[0m\n",
      "\u001b[0;31mTypeError\u001b[0m: unhashable type: 'numpy.ndarray'"
     ]
    }
   ],
   "source": [
    "H.add_edges_from(edges_2d)  # edges_2d is ambiguous"
   ]
  },
  {
   "cell_type": "code",
   "execution_count": null,
   "id": "7e3db310",
   "metadata": {},
   "outputs": [],
   "source": []
  }
 ],
 "metadata": {
  "kernelspec": {
   "display_name": "Python 3",
   "language": "python",
   "name": "python3"
  },
  "language_info": {
   "codemirror_mode": {
    "name": "ipython",
    "version": 3
   },
   "file_extension": ".py",
   "mimetype": "text/x-python",
   "name": "python",
   "nbconvert_exporter": "python",
   "pygments_lexer": "ipython3",
   "version": "3.6.3"
  }
 },
 "nbformat": 4,
 "nbformat_minor": 5
}
