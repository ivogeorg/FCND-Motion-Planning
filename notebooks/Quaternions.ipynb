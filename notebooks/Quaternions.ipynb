{
 "cells": [
  {
   "cell_type": "markdown",
   "metadata": {},
   "source": [
    "## Quaternions\n"
   ]
  },
  {
   "cell_type": "markdown",
   "metadata": {},
   "source": [
    "In the following exercise you'll implement functions to convert between Euler angles and quaternion representations. It's useful to be able to easily navigate back and forth between these representations because of their relative strengths. Quaternions are better for calculations, while Euler angles are far more intuitive.\n",
    "\n",
    "Some messages coming from your drone in simulation (or in the real world) will represent orientation data as a quaternion, while others use Euler angles. So it's a good idea to be able to seamlessly handle both. \n",
    "\n",
    "The [`udacidrone` API imlementation](https://github.com/udacity/udacidrone/blob/master/udacidrone/connection/message_types.py#L189-L284) that you're using for the projects in this program already has these conversions implemented under the hood so that's a great place to start if you aren't sure how to complete this exercise!"
   ]
  },
  {
   "cell_type": "code",
   "execution_count": 5,
   "metadata": {},
   "outputs": [],
   "source": [
    "import numpy as np\n",
    "\n",
    "def euler_to_quaternion(angles):\n",
    "    roll = angles[0]    # phi\n",
    "    pitch = angles[1]   # theta\n",
    "    yaw = angles[2]     # psi\n",
    "    \n",
    "    r = roll / 2.\n",
    "    p = pitch / 2.\n",
    "    y = yaw / 2.\n",
    "    \n",
    "    cr = np.cos(r)\n",
    "    sr = np.sin(r)\n",
    "    cp = np.cos(p)\n",
    "    sp = np.sin(p)\n",
    "    cy = np.cos(y)\n",
    "    sy = np.sin(y)\n",
    "    \n",
    "    # Convert and return a numpy array of\n",
    "    # 4 elements representing a quaternion [a, b, c, d]\n",
    "    a = cr * cp * cy + sr * sp * sy\n",
    "    b = sr * cp * cy - cr * sr * sy\n",
    "    c = cr * sp * cy + sr * cp * sy\n",
    "    d = cr * cp * sy - sr * sp * cy    \n",
    "    \n",
    "    return np.array([a, b, c, d])\n",
    "\n",
    "def quaternion_to_euler(quaternion):\n",
    "    a = quaternion[0]\n",
    "    b = quaternion[1]\n",
    "    c = quaternion[2]\n",
    "    d = quaternion[3]\n",
    "    \n",
    "    # Complete the conversion and return a numpy array of\n",
    "    # 3 element representing the euler angles [roll, pitch, yaw]\n",
    "    \n",
    "    roll = np.arctan2(2. * (a * b + c * d), 1. - 2. * (b**2 + c**2))\n",
    "    pitch = np.arcsin(2. * (a * c - d * b))\n",
    "    yaw = np.arctan(2. * (a * d + b * c) / (1. - 2. * (c**2 + d**2)))\n",
    "    \n",
    "    return np.array([roll, pitch, yaw])"
   ]
  },
  {
   "cell_type": "markdown",
   "metadata": {},
   "source": [
    "Test the conversion."
   ]
  },
  {
   "cell_type": "code",
   "execution_count": 6,
   "metadata": {},
   "outputs": [
    {
     "name": "stdout",
     "output_type": "stream",
     "text": [
      "[ 0.6830127  0.6830127  0.1830127 -0.1830127]\n"
     ]
    }
   ],
   "source": [
    "euler = np.array([np.deg2rad(90), np.deg2rad(30), np.deg2rad(0)])\n",
    "\n",
    "q = euler_to_quaternion(euler) # should be [ 0.683  0.683  0.183 -0.183]\n",
    "print(q)\n",
    "\n",
    "assert np.allclose(euler, quaternion_to_euler(q))"
   ]
  },
  {
   "cell_type": "markdown",
   "metadata": {},
   "source": [
    "Here's our [solution](https://github.com/ivogeorg/FCND-Motion-Planning/blob/main/notebooks/Quaternions-Solution.ipynb)!"
   ]
  },
  {
   "cell_type": "code",
   "execution_count": null,
   "metadata": {},
   "outputs": [],
   "source": []
  }
 ],
 "metadata": {
  "kernelspec": {
   "display_name": "Python 3",
   "language": "python",
   "name": "python3"
  },
  "language_info": {
   "codemirror_mode": {
    "name": "ipython",
    "version": 3
   },
   "file_extension": ".py",
   "mimetype": "text/x-python",
   "name": "python",
   "nbconvert_exporter": "python",
   "pygments_lexer": "ipython3",
   "version": "3.6.3"
  }
 },
 "nbformat": 4,
 "nbformat_minor": 2
}
