{
 "cells": [
  {
   "cell_type": "markdown",
   "metadata": {},
   "source": [
    "The Dubin's Car is expressed with the following differential equations:\n",
    "\n",
    "$$\n",
    "\\dot{x} = v * cos(\\theta)   \\\\\n",
    "\\dot{y} = v * sin(\\theta)   \\\\ \n",
    "\\dot{\\theta} = v * tan(u)\n",
    "$$\n",
    "\n",
    "Where $v$ is the velocity (note in the previous video it was assumed that $v=1$) and $u$ is the steering angle. Both the velocity and steering angle are constrained inputs to mimic the physical world. For example, the steering angle may be limited to a value in the range $[-30, 30]$ (degrees) and the velocity [0, 100] (km/hour). It's also not uncommon to set the velocity to be a constant value."
   ]
  },
  {
   "cell_type": "code",
   "execution_count": 1,
   "metadata": {},
   "outputs": [],
   "source": [
    "import numpy as np\n",
    "import matplotlib.pyplot as plt\n",
    "\n",
    "%matplotlib inline"
   ]
  },
  {
   "cell_type": "code",
   "execution_count": 2,
   "metadata": {},
   "outputs": [],
   "source": [
    "plt.rcParams['figure.figsize'] = 12, 12"
   ]
  },
  {
   "cell_type": "markdown",
   "metadata": {},
   "source": [
    "Defining the function which will return the steering angle randomly in the range of $[-30, 30]$. Please feel free to play with the range."
   ]
  },
  {
   "cell_type": "code",
   "execution_count": 3,
   "metadata": {},
   "outputs": [],
   "source": [
    "# limit the steering angle range\n",
    "STEERING_ANGLE_MAX = np.deg2rad(30)\n",
    "\n",
    "def sample_steering_angle():\n",
    "    return np.random.uniform(-STEERING_ANGLE_MAX, STEERING_ANGLE_MAX)"
   ]
  },
  {
   "cell_type": "markdown",
   "metadata": {},
   "source": [
    "Next you'll define the Dubin's car model based on the above differential equations. `state` is a 3-element array $[x, y, \\theta]$. You'll compute the next state and return the result."
   ]
  },
  {
   "cell_type": "code",
   "execution_count": 20,
   "metadata": {},
   "outputs": [],
   "source": [
    "from enum import Enum\n",
    "class State(Enum):\n",
    "    X = 0\n",
    "    Y = 1\n",
    "    Theta = 2\n",
    "\n",
    "# Note: Cannot use enum values as indices directly\n",
    "    \n",
    "def simulate(state, angle, v, dt):\n",
    "    # DONE: implement the dubin's car model\n",
    "    # return the next state\n",
    "    # Shouldn't the x and y be computed with the new theta?\n",
    "    # Probably not a big deal here. Depends on the exect\n",
    "    # interpretation of the model statement.\n",
    "    # Actually, considering that state_0 is [0, 0, 0],\n",
    "    # it makes no sense to compute a new theta first.\n",
    "#     theta_new = state[2] + v * np.tan(angle) * dt\n",
    "#     x_new = state[0] + v * np.cos(theta_new) * dt\n",
    "#     y_new = state[1] + v * np.sin(theta_new) * dt\n",
    "\n",
    "    x, y, theta = state\n",
    "    x_new = x + v * np.cos(theta) * dt\n",
    "    y_new = y + v * np.sin(theta) * dt\n",
    "    theta_new = theta + v * np.tan(angle) * dt\n",
    "    return [x_new, y_new, theta_new]"
   ]
  },
  {
   "cell_type": "markdown",
   "metadata": {},
   "source": [
    "Initially, we place the car at the center of the coordinate system (0, 0) and give heading of $0$ which is facing in the positive direction along the $x$ axis."
   ]
  },
  {
   "cell_type": "code",
   "execution_count": 25,
   "metadata": {},
   "outputs": [],
   "source": [
    "# feel free to play around with these\n",
    "v = 5\n",
    "dt = 0.1\n",
    "total_time = 50\n",
    "\n",
    "# initial state\n",
    "states = [[0, 0, 0]]\n",
    "\n",
    "for _ in np.arange(0, total_time, dt):\n",
    "    angle = sample_steering_angle()\n",
    "    state = simulate(states[-1], angle, v, dt)\n",
    "    states.append(state)\n",
    "\n",
    "states = np.array(states)"
   ]
  },
  {
   "cell_type": "markdown",
   "metadata": {},
   "source": [
    "Now let's visualize the path!"
   ]
  },
  {
   "cell_type": "code",
   "execution_count": 26,
   "metadata": {},
   "outputs": [
    {
     "data": {
      "image/png": "[encoded data removed]",
      "text/plain": [
       "<matplotlib.figure.Figure at 0x7fc89b6682b0>"
      ]
     },
     "metadata": {
      "needs_background": "light"
     },
     "output_type": "display_data"
    }
   ],
   "source": [
    "plt.plot(states[:, 0], states[:, 1], color='blue')\n",
    "plt.axis('equal')\n",
    "plt.xlabel('X')\n",
    "plt.ylabel('Y')\n",
    "plt.show()"
   ]
  },
  {
   "cell_type": "markdown",
   "metadata": {},
   "source": [
    "[solution](/notebooks/Dubins-Car-Solution.ipynb)"
   ]
  },
  {
   "cell_type": "code",
   "execution_count": 31,
   "metadata": {},
   "outputs": [],
   "source": [
    "A = np.random.random_sample((4, 3))"
   ]
  },
  {
   "cell_type": "code",
   "execution_count": 32,
   "metadata": {},
   "outputs": [
    {
     "data": {
      "text/plain": [
       "array([[ 0.37505022,  0.95046951,  0.69919325],\n",
       "       [ 0.99463382,  0.93586762,  0.74529206],\n",
       "       [ 0.70288229,  0.59054793,  0.51900303],\n",
       "       [ 0.02168192,  0.20390832,  0.1206904 ]])"
      ]
     },
     "execution_count": 32,
     "metadata": {},
     "output_type": "execute_result"
    }
   ],
   "source": [
    "A"
   ]
  },
  {
   "cell_type": "code",
   "execution_count": 33,
   "metadata": {},
   "outputs": [
    {
     "data": {
      "text/plain": [
       "0.12069039949910754"
      ]
     },
     "execution_count": 33,
     "metadata": {},
     "output_type": "execute_result"
    }
   ],
   "source": [
    "A[3, 2]"
   ]
  },
  {
   "cell_type": "code",
   "execution_count": null,
   "metadata": {},
   "outputs": [],
   "source": []
  }
 ],
 "metadata": {
  "kernelspec": {
   "display_name": "Python 3",
   "language": "python",
   "name": "python3"
  },
  "language_info": {
   "codemirror_mode": {
    "name": "ipython",
    "version": 3
   },
   "file_extension": ".py",
   "mimetype": "text/x-python",
   "name": "python",
   "nbconvert_exporter": "python",
   "pygments_lexer": "ipython3",
   "version": "3.6.3"
  }
 },
 "nbformat": 4,
 "nbformat_minor": 2
}
