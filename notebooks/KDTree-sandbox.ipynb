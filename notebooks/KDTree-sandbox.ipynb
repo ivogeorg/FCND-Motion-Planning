{
 "cells": [
  {
   "cell_type": "markdown",
   "id": "397a479c",
   "metadata": {},
   "source": [
    "# KDTree sandbox\n",
    "\n",
    "Using k-d trees to speed up neighbor lookup. The centroids of map polygons go into a [KDTree](https://scikit-learn.org/stable/modules/generated/sklearn.neighbors.KDTree.html) which is queried for the $k$ closest polygons to random sampling points, one point at a time."
   ]
  },
  {
   "cell_type": "markdown",
   "id": "cb473c0b",
   "metadata": {},
   "source": [
    "## Examples from `scikit`"
   ]
  },
  {
   "cell_type": "code",
   "execution_count": 6,
   "id": "90b99bbe",
   "metadata": {},
   "outputs": [],
   "source": [
    "import numpy as np\n",
    "from sklearn.neighbors import KDTree"
   ]
  },
  {
   "cell_type": "code",
   "execution_count": 2,
   "id": "33cf3b28",
   "metadata": {},
   "outputs": [],
   "source": [
    "rng = np.random.RandomState(0)\n",
    "\n",
    "X = rng.random_sample((10, 3))  # 10 points in 3 dimensions"
   ]
  },
  {
   "cell_type": "code",
   "execution_count": 3,
   "id": "72b9782a",
   "metadata": {},
   "outputs": [
    {
     "data": {
      "text/plain": [
       "array([[0.5488135 , 0.71518937, 0.60276338],\n",
       "       [0.54488318, 0.4236548 , 0.64589411],\n",
       "       [0.43758721, 0.891773  , 0.96366276],\n",
       "       [0.38344152, 0.79172504, 0.52889492],\n",
       "       [0.56804456, 0.92559664, 0.07103606],\n",
       "       [0.0871293 , 0.0202184 , 0.83261985],\n",
       "       [0.77815675, 0.87001215, 0.97861834],\n",
       "       [0.79915856, 0.46147936, 0.78052918],\n",
       "       [0.11827443, 0.63992102, 0.14335329],\n",
       "       [0.94466892, 0.52184832, 0.41466194]])"
      ]
     },
     "execution_count": 3,
     "metadata": {},
     "output_type": "execute_result"
    }
   ],
   "source": [
    "X"
   ]
  },
  {
   "cell_type": "code",
   "execution_count": 7,
   "id": "1191e203",
   "metadata": {},
   "outputs": [],
   "source": [
    "tree = KDTree(X, leaf_size=2)              "
   ]
  },
  {
   "cell_type": "code",
   "execution_count": 9,
   "id": "3a1f080b",
   "metadata": {},
   "outputs": [
    {
     "data": {
      "text/plain": [
       "<MemoryView of 'array' at 0x7ff7b73c6048>"
      ]
     },
     "execution_count": 9,
     "metadata": {},
     "output_type": "execute_result"
    }
   ],
   "source": [
    "tree.data"
   ]
  },
  {
   "cell_type": "code",
   "execution_count": 16,
   "id": "3baee3bc",
   "metadata": {},
   "outputs": [
    {
     "data": {
      "text/plain": [
       "(array([[0.5488135 , 0.71518937, 0.60276338],\n",
       "        [0.54488318, 0.4236548 , 0.64589411],\n",
       "        [0.43758721, 0.891773  , 0.96366276],\n",
       "        [0.38344152, 0.79172504, 0.52889492],\n",
       "        [0.56804456, 0.92559664, 0.07103606],\n",
       "        [0.0871293 , 0.0202184 , 0.83261985],\n",
       "        [0.77815675, 0.87001215, 0.97861834],\n",
       "        [0.79915856, 0.46147936, 0.78052918],\n",
       "        [0.11827443, 0.63992102, 0.14335329],\n",
       "        [0.94466892, 0.52184832, 0.41466194]]),\n",
       " array([8, 3, 0, 4, 9, 5, 1, 7, 6, 2]),\n",
       " array([(0, 10, 0, 1.14121853), (0,  5, 0, 0.3923255 ),\n",
       "        (5, 10, 0, 0.25723308), (0,  2, 1, 0.19277082),\n",
       "        (2,  5, 1, 0.37598799), (5,  7, 1, 0.09336287),\n",
       "        (7, 10, 1, 0.14007019)],\n",
       "       dtype=[('idx_start', '<i8'), ('idx_end', '<i8'), ('is_leaf', '<i8'), ('radius', '<f8')]),\n",
       " array([[[0.0871293 , 0.0202184 , 0.07103606],\n",
       "         [0.11827443, 0.52184832, 0.07103606],\n",
       "         [0.0871293 , 0.0202184 , 0.64589411],\n",
       "         [0.11827443, 0.63992102, 0.14335329],\n",
       "         [0.5488135 , 0.52184832, 0.07103606],\n",
       "         [0.0871293 , 0.0202184 , 0.64589411],\n",
       "         [0.43758721, 0.46147936, 0.78052918]],\n",
       " \n",
       "        [[0.94466892, 0.92559664, 0.97861834],\n",
       "         [0.94466892, 0.92559664, 0.60276338],\n",
       "         [0.79915856, 0.891773  , 0.97861834],\n",
       "         [0.38344152, 0.79172504, 0.52889492],\n",
       "         [0.94466892, 0.92559664, 0.60276338],\n",
       "         [0.54488318, 0.4236548 , 0.83261985],\n",
       "         [0.79915856, 0.891773  , 0.97861834]]]))"
      ]
     },
     "execution_count": 16,
     "metadata": {},
     "output_type": "execute_result"
    }
   ],
   "source": [
    "tree.get_arrays()"
   ]
  },
  {
   "cell_type": "markdown",
   "id": "07d76d99",
   "metadata": {},
   "source": [
    "### Query for k-nearest neighbors\n",
    "\n",
    "#### `KDTree.query`\n",
    "\n",
    "Documentation for [`sklearn.neighbors.KDTree.query()`](https://scikit-learn.org/stable/modules/generated/sklearn.neighbors.KDTree.html#sklearn.neighbors.KDTree.query)."
   ]
  },
  {
   "cell_type": "code",
   "execution_count": 10,
   "id": "8b912283",
   "metadata": {},
   "outputs": [
    {
     "data": {
      "text/plain": [
       "array([[0.5488135 , 0.71518937, 0.60276338]])"
      ]
     },
     "execution_count": 10,
     "metadata": {},
     "output_type": "execute_result"
    }
   ],
   "source": [
    "X[:1]"
   ]
  },
  {
   "cell_type": "code",
   "execution_count": 11,
   "id": "17c00c47",
   "metadata": {},
   "outputs": [],
   "source": [
    "# query takes an array\n",
    "# retrieve up to 3 nearest neighbors\n",
    "dist, ind = tree.query(X[:1], k=3)                "
   ]
  },
  {
   "cell_type": "code",
   "execution_count": 12,
   "id": "267d27ab",
   "metadata": {},
   "outputs": [
    {
     "name": "stdout",
     "output_type": "stream",
     "text": [
      "[[0 3 1]]\n"
     ]
    }
   ],
   "source": [
    "# query returns an array of the indices of the closest k neihbors\n",
    "# to each point (so a 2D array), in this case only one (so it appears nested)\n",
    "# note that the point itself is returned\n",
    "print(ind)"
   ]
  },
  {
   "cell_type": "code",
   "execution_count": 13,
   "id": "4cbd9637",
   "metadata": {},
   "outputs": [
    {
     "name": "stdout",
     "output_type": "stream",
     "text": [
      "[[0.         0.19662693 0.29473397]]\n"
     ]
    }
   ],
   "source": [
    "print(dist)"
   ]
  },
  {
   "cell_type": "markdown",
   "id": "55123c3e",
   "metadata": {},
   "source": [
    "### Query for neighbors in a certain radius"
   ]
  },
  {
   "cell_type": "code",
   "execution_count": 14,
   "id": "7e164230",
   "metadata": {},
   "outputs": [
    {
     "name": "stdout",
     "output_type": "stream",
     "text": [
      "[3]\n"
     ]
    }
   ],
   "source": [
    "print(tree.query_radius(X[:1], r=0.3, count_only=True))"
   ]
  },
  {
   "cell_type": "code",
   "execution_count": 15,
   "id": "4ed1142b",
   "metadata": {},
   "outputs": [
    {
     "name": "stdout",
     "output_type": "stream",
     "text": [
      "[array([3, 0, 1])]\n"
     ]
    }
   ],
   "source": [
    "ind = tree.query_radius(X[:1], r=0.3)  \n",
    "print(ind)  # indices of neighbors within distance 0.3"
   ]
  },
  {
   "cell_type": "markdown",
   "id": "707edd33",
   "metadata": {},
   "source": [
    "### Compute Gaussian density estimate around points\n",
    "\n",
    "_Might this be used as a crude way to dynamically sample and ensure more uniform coverage of the random sample?_"
   ]
  },
  {
   "cell_type": "code",
   "execution_count": 17,
   "id": "18029991",
   "metadata": {},
   "outputs": [
    {
     "data": {
      "text/plain": [
       "array([ 97.37160967, 168.6409    , 127.70081271])"
      ]
     },
     "execution_count": 17,
     "metadata": {},
     "output_type": "execute_result"
    }
   ],
   "source": [
    "rng = np.random.RandomState(42)\n",
    "X = rng.random_sample((100, 3))\n",
    "tree_gaus = KDTree(X)                \n",
    "tree_gaus.kernel_density(X[:3], h=0.1, kernel='gaussian')"
   ]
  },
  {
   "cell_type": "markdown",
   "id": "5eff89c6",
   "metadata": {},
   "source": [
    "## Interplay with `networkx` and `shapely`\n",
    "\n",
    "[NetworkX](https://networkx.org/) is a package for building and manipulating complex networks in Python.  \n",
    "\n",
    "[Shapely](https://shapely.readthedocs.io/en/stable/project.html) is a Python package for the manipulation and analysis of geometric objects in the Cartesian plane.  \n",
    "\n",
    "1. Using the _colliders_ data, a list of objects containing `shapely.geometry.Polygon` objects is populated. Various polygon attributes are exposed, wrapping `shapely.geometry.Polygon` for easier calls. Centroid (for `KDTree`) and coordinates (for `networkx`) properties are most useful.\n",
    "2. The polygon list is used to create `shapely` objects for the polygons, so that they can be queried for collision with sample points and potential path segments between non-colliding nodes.\n",
    "3. A `KDTree` is populated with the centroids of the `shapely.geometry.Polygon` objects, in the same order as the poly-containing object list. These indices will be returned by the neighbor query and used for poly lookup.  \n",
    "4. A random sample of 3-coordinate points is generated and is used to populate a list of points to become graph nodes. The `KDTree` is queried for the $k$ neigbor polygon centroids within a certain _radius_. _Hyperparameter: The choice of radius balances the network graph density (and therefore computational load) and the connectivity of the navigated map. It makes some sense to make the radius the largest polygon dimension (height or width) in the polygon set. TODO: Sketch the rationale._  \n",
    "5. For each point query, the `KDTree.query` returns the indices of the centroids which matched. Each corresponding polygon is looked up by index and checked for collision. Only non-colliding points are kept.\n",
    "6. The filtered points are used as graph nodes to populate a new `KDTree` and a `networkx.Graph`.\n",
    "7. For each node, the closest $k$ are connected if and only if, the `shapely.LineSegment` between them does not cross any of the polygons (no check for the closest here) at a higher lower than the polygon height."
   ]
  },
  {
   "cell_type": "code",
   "execution_count": null,
   "id": "9d6cea88",
   "metadata": {},
   "outputs": [],
   "source": []
  }
 ],
 "metadata": {
  "kernelspec": {
   "display_name": "Python 3",
   "language": "python",
   "name": "python3"
  },
  "language_info": {
   "codemirror_mode": {
    "name": "ipython",
    "version": 3
   },
   "file_extension": ".py",
   "mimetype": "text/x-python",
   "name": "python",
   "nbconvert_exporter": "python",
   "pygments_lexer": "ipython3",
   "version": "3.6.3"
  }
 },
 "nbformat": 4,
 "nbformat_minor": 5
}
